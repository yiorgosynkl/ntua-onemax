{
 "cells": [
  {
   "cell_type": "markdown",
   "metadata": {},
   "source": [
    "# Genetic Algoritms - Onemax Problem"
   ]
  },
  {
   "cell_type": "markdown",
   "metadata": {},
   "source": [
    "## General\n",
    "In this project, we will get familiar with the use of genetic algorithms and the different values for the parameters. Specifically, we are going to implement a genetic algorithm that solves the onemax problem."
   ]
  },
  {
   "cell_type": "code",
   "execution_count": 1,
   "metadata": {},
   "outputs": [],
   "source": [
    "import random"
   ]
  },
  {
   "cell_type": "markdown",
   "metadata": {},
   "source": [
    "## Theory"
   ]
  },
  {
   "cell_type": "markdown",
   "metadata": {},
   "source": [
    "##  Onemax Problem\n",
    "\n",
    "Find the binary sequence $(x_1, x_2, ..., x_n)$ that maximizes the sum $x_1 + x_2 + ... + x_n, n = 20$. Analyze the effect of population size, crossover probability, and mutation probability on the quality of the solution (how close it is to the obvious optimal solution) derived from the genetic algorithm. Specifically, change the population from $10$ to $100$ chromosomes with a step of $10$, the probability of crossing from $0.3$ to $0.9$ with a step of $0.1$, and the chance of mutation from $0.01$ to $0.2$ with a step of $0.01$. Examine the quality of the genetic algorithm solution as you change the parameters. Elitism can be used if you wish."
   ]
  },
  {
   "cell_type": "markdown",
   "metadata": {},
   "source": [
    "### Guidelines of the program\n",
    "- Chromosome: list of 20 elements (0 or 1)\n",
    "- Fitness function: sum of the elements of the array (0 to 20)\n",
    "- Selection: probablility proportional to the result of the fitness function\n",
    "- Crossover: merging two sublists (crossover point splits chromosomes in half)\n",
    "- Mutation: flipping 0 to 1 and 1 to 0 in random spots of the list"
   ]
  },
  {
   "cell_type": "code",
   "execution_count": 2,
   "metadata": {},
   "outputs": [],
   "source": [
    "chromosome_size = 20 \n",
    "population_size = 20\n",
    "crossover_pr = 0.7\n",
    "mutation_pr = 0.02\n",
    "\n",
    "def create_chromosome():\n",
    "    # Create one chromosome\n",
    "    mylist = []\n",
    "    for i in range(0,chromosome_size):\n",
    "        mylist.append(random.randint(0,1))\n",
    "    return mylist\n",
    "\n",
    "def create_population():\n",
    "    # Create the initial population\n",
    "    mylist = []\n",
    "    for i in range(0,population_size):\n",
    "        mylist.append(create_chromosome())\n",
    "    return mylist\n",
    "\n",
    "def find_fitness(population):\n",
    "    # Calculate fitness of chromosomes\n",
    "    mylist = []\n",
    "    for chromosome in population:\n",
    "        mylist.append(sum(chromosome))\n",
    "    return mylist\n",
    "\n",
    "def proportional_selection(population):\n",
    "    # Select chromosomes to pass to next population proportionally to their fitness\n",
    "    # function doesn't work in the improbable case that fitness list is full of zeros\n",
    "    fitness = find_fitness(population)\n",
    "    limits = [] # list of sums, right direction, of fitnesses\n",
    "    mysum = 0\n",
    "    for i in fitness:\n",
    "        mysum+=i\n",
    "        limits.append(mysum)\n",
    "    parents = []\n",
    "    for _ in range(0,population_size): # select parents for the population according to probabilities\n",
    "        rand = random.randint(1,mysum)\n",
    "        idx = 0\n",
    "        for limit in limits:\n",
    "            if rand<=limit:\n",
    "                break\n",
    "            else:\n",
    "                idx+=1\n",
    "        parents.append(population[idx])\n",
    "    return parents\n",
    "\n",
    "def crossover(parents):\n",
    "    # Apply crossover to population\n",
    "    loops = population_size // 2\n",
    "    crossovered = []\n",
    "    idx = 0\n",
    "    for _ in range(0,loops):\n",
    "        rand = random.random()\n",
    "        A = parents[idx] # parentA and parentB\n",
    "        B = parents[idx+1]\n",
    "        if (rand>crossover_pr):\n",
    "            pA = A\n",
    "            pB = B\n",
    "        else:\n",
    "            point = random.randint(1,chromosome_size - 2) # crossover point (between 1 and 18)\n",
    "            pA = A[:point] + B[point:]\n",
    "            pB = B[:point] + A[point:]\n",
    "        crossovered.append(pA)\n",
    "        crossovered.append(pB)\n",
    "        idx+=2\n",
    "    return crossovered\n",
    "\n",
    "def mutation(crossovered):\n",
    "    # Apply mutation to population\n",
    "    mutated = []\n",
    "    for chromosome in crossovered:\n",
    "        mutated_chromosome = []\n",
    "        for gene in chromosome:\n",
    "            rand = random.random()\n",
    "            if (mutation_pr<rand):\n",
    "                mutated_chromosome.append(gene)\n",
    "            else:\n",
    "                if (gene==0):\n",
    "                    mutated_chromosome.append(1)\n",
    "                else: # if (gene==1):\n",
    "                    mutated_chromosome.append(0)\n",
    "        mutated.append(mutated_chromosome)\n",
    "    return mutated\n",
    "\n",
    "def genetic_algorithm():\n",
    "    # Main genetic algorithm\n",
    "    loops = 100\n",
    "    pop = create_population()\n",
    "#     print(pop)\n",
    "    for _ in range(0,loops):\n",
    "        selected = proportional_selection(pop)\n",
    "        crossovered = crossover(selected)\n",
    "        mutated = mutation(crossovered)\n",
    "        pop = mutated\n",
    "#     print(pop)\n",
    "    f = find_fitness(pop)\n",
    "    return pop[f.index(max(f))]"
   ]
  },
  {
   "cell_type": "code",
   "execution_count": 3,
   "metadata": {},
   "outputs": [],
   "source": [
    "# checking functions\n",
    "# p = create_population()\n",
    "# p = [[1, 1, 1, 1, 1, 1, 1, 1, 1, 1, 0, 0, 0, 0, 0, 0, 0, 0, 0, 0],\n",
    "#      [0, 0, 0, 0, 0, 0, 0, 0, 0, 0, 1, 1, 1, 1, 1, 1, 1, 1, 1, 1],\n",
    "#      [1, 1, 1, 1, 1, 1, 1, 1, 1, 1, 0, 0, 0, 0, 0, 0, 0, 0, 0, 0],\n",
    "#      [0, 0, 0, 0, 0, 0, 0, 0, 0, 0, 1, 1, 1, 1, 1, 1, 1, 1, 1, 1],\n",
    "#      [1, 1, 1, 1, 1, 1, 1, 1, 1, 1, 0, 0, 0, 0, 0, 0, 0, 0, 0, 0],\n",
    "#      [0, 0, 0, 0, 0, 0, 0, 0, 0, 0, 1, 1, 1, 1, 1, 1, 1, 1, 1, 1],\n",
    "#      [1, 1, 1, 1, 1, 1, 1, 1, 1, 1, 0, 0, 0, 0, 0, 0, 0, 0, 0, 0],\n",
    "#      [0, 0, 0, 0, 0, 0, 0, 0, 0, 0, 1, 1, 1, 1, 1, 1, 1, 1, 1, 1],\n",
    "#      [1, 1, 1, 1, 1, 1, 1, 1, 1, 1, 0, 0, 0, 0, 0, 0, 0, 0, 0, 0],\n",
    "#      [0, 0, 0, 0, 0, 0, 0, 0, 0, 0, 1, 1, 1, 1, 1, 1, 1, 1, 1, 1]]\n",
    "# for i in p:\n",
    "#     print(i)\n",
    "\n",
    "# cr = crossover(p)\n",
    "# for i in cr:\n",
    "#     print(i)\n",
    "\n",
    "# mut = mutation(p)\n",
    "# for i in mut:\n",
    "#     print(i)\n",
    "# for i in range(0,population_size):\n",
    "#     for j in range(0,chromosome_size):\n",
    "#         if(mut[i][j]!=p[i][j]):\n",
    "#             print(i,j)"
   ]
  },
  {
   "cell_type": "code",
   "execution_count": 4,
   "metadata": {},
   "outputs": [
    {
     "name": "stdout",
     "output_type": "stream",
     "text": [
      "[0, 1, 1, 1, 1, 1, 1, 0, 1, 1, 0, 1, 1, 1, 1, 1, 0, 1, 1, 1]\n"
     ]
    }
   ],
   "source": [
    "best = genetic_algorithm()\n",
    "print(best)"
   ]
  },
  {
   "cell_type": "markdown",
   "metadata": {},
   "source": [
    "## My understanding\n",
    "\n",
    "A genetic algorithm is a problem-solving technique that uses optimisation logic and is inspired by Charles Darwin’s theory of natural evolution.\n",
    "The core logic:\n",
    "- we use an optimisation techinique to find the best solution for a problem by trying to combine different good solutions and introducing some variations. Through iteration we converge to set solutions that cannot become any better.\n",
    "In nature, according to the theory of natural evolution and the concept of \"the survival of the fittest\", the individuals that have a better combination of genetical characteristics (\"fittest\") are more likely to reproduce and thus each generation is more likely to acquire the characteristics of the fittest.\n",
    "\n",
    "In genetic algorithms, we start with a set of solutions (population). Each solution (chromosome) is a representation of a possible solution to a our problem. The representation is problem specific. Usually we use a string of characters or an array of integers. Each element of a solution is called a gene. With the survival of the fittest and  iteration, genes that constitute a good solution are more likely to be part of the final solution whereas genes that constitute a bad solution are more likely to disappear during the iterative method.\n",
    "The core elements are:\n",
    "- selection (depends on the fitness function)\n",
    "- crossover (combining good solutions to produce even better solutions)\n",
    "- mutation (to maintain diversity within the population and prevent premature convergence)\n"
   ]
  },
  {
   "cell_type": "markdown",
   "metadata": {},
   "source": [
    "#### Sources\n",
    "Genetic algoritms:\n",
    "- https://www.geeksforgeeks.org/genetic-algorithms/\n",
    "- https://towardsdatascience.com/introduction-to-genetic-algorithms-including-example-code-e396e98d8bf3\n",
    "\n",
    "Python:\n",
    "- https://medium.com/@dasagrivamanu/python-naming-conventions-the-10-points-you-should-know-149a9aa9f8c7\n",
    "- https://towardsdatascience.com/genetic-algorithm-implementation-in-python-5ab67bb124a6\n"
   ]
  },
  {
   "cell_type": "markdown",
   "metadata": {},
   "source": [
    "#### Creator\n",
    "Giannakoulias Georgios, student in National Technical University of Athens"
   ]
  }
 ],
 "metadata": {
  "kernelspec": {
   "display_name": "Python 3",
   "language": "python",
   "name": "python3"
  },
  "language_info": {
   "codemirror_mode": {
    "name": "ipython",
    "version": 3
   },
   "file_extension": ".py",
   "mimetype": "text/x-python",
   "name": "python",
   "nbconvert_exporter": "python",
   "pygments_lexer": "ipython3",
   "version": "3.7.4"
  }
 },
 "nbformat": 4,
 "nbformat_minor": 2
}
